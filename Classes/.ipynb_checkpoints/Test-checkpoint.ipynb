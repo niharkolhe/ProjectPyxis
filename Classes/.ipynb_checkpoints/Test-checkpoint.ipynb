{
 "cells": [
  {
   "cell_type": "code",
   "execution_count": 2,
   "id": "7102bde6-9d35-45e4-a999-c98209981464",
   "metadata": {},
   "outputs": [],
   "source": [
    "ab = 2"
   ]
  },
  {
   "cell_type": "code",
   "execution_count": 6,
   "id": "49f95b13-2d22-4051-8328-8490d747b7ae",
   "metadata": {},
   "outputs": [],
   "source": [
    "exec(\"ab==2\")"
   ]
  },
  {
   "cell_type": "code",
   "execution_count": 1,
   "id": "35289588-817a-4498-b27c-cd99338f86cb",
   "metadata": {},
   "outputs": [],
   "source": [
    "from MapAreas import MapAreas\n"
   ]
  },
  {
   "cell_type": "code",
   "execution_count": null,
   "id": "a8986b54-0c69-4448-96e0-61c73fe2cf6b",
   "metadata": {},
   "outputs": [],
   "source": []
  },
  {
   "cell_type": "code",
   "execution_count": 2,
   "id": "b547d18d-6def-4178-bd23-59b6938aaf05",
   "metadata": {},
   "outputs": [
    {
     "name": "stdout",
     "output_type": "stream",
     "text": [
      "0_0 Gym\n",
      "0_1 Storage\n",
      "0_2 Medbay\n",
      "1_0 Crew Room\n",
      "1_1 Pod room\n",
      "1_2 Cafeteria\n",
      "2_0 Control Room\n",
      "2_1 Cryogenics\n",
      "2_2 Lab\n"
     ]
    }
   ],
   "source": [
    "m1 = MapAreas()\n",
    "for key,value in m1.getMapArray().items():\n",
    "    print(key, value.getRoomName())"
   ]
  },
  {
   "cell_type": "code",
   "execution_count": null,
   "id": "b40c62cb-cb8d-4df8-be7d-2f2b3567d8a0",
   "metadata": {},
   "outputs": [],
   "source": [
    "\n",
    "        \n",
    "                "
   ]
  },
  {
   "cell_type": "code",
   "execution_count": 1,
   "id": "bdd05ddf-922f-4996-8a6a-8768d19b06eb",
   "metadata": {},
   "outputs": [],
   "source": [
    "from PlayerCharacter import PlayerCharacter"
   ]
  },
  {
   "cell_type": "code",
   "execution_count": 4,
   "id": "1db4f31b-6049-4b1b-8f96-b50c2c32757a",
   "metadata": {},
   "outputs": [],
   "source": [
    "p1 = PlayerCharacter([2,2])"
   ]
  },
  {
   "cell_type": "code",
   "execution_count": 5,
   "id": "c0d32e5b-ab7f-4dcc-ba1b-e0710fdaff4d",
   "metadata": {},
   "outputs": [
    {
     "name": "stdout",
     "output_type": "stream",
     "text": [
      "10\n"
     ]
    },
    {
     "data": {
      "text/plain": [
       "[2, 2]"
      ]
     },
     "execution_count": 5,
     "metadata": {},
     "output_type": "execute_result"
    }
   ],
   "source": [
    "p1.move(\"s\")\n",
    "p1.getPosition()"
   ]
  },
  {
   "cell_type": "code",
   "execution_count": 6,
   "id": "de4b5bdf-8acc-41de-babb-ce1a73c83d10",
   "metadata": {},
   "outputs": [
    {
     "name": "stdout",
     "output_type": "stream",
     "text": [
      "10\n"
     ]
    },
    {
     "data": {
      "text/plain": [
       "[2, 2]"
      ]
     },
     "execution_count": 6,
     "metadata": {},
     "output_type": "execute_result"
    }
   ],
   "source": [
    "p1.move(\"e\")\n",
    "p1.getPosition()"
   ]
  },
  {
   "cell_type": "code",
   "execution_count": 3,
   "id": "9c6f9654-9bb2-46d9-98c2-4cf159b33e89",
   "metadata": {},
   "outputs": [
    {
     "data": {
      "text/plain": [
       "False"
      ]
     },
     "execution_count": 3,
     "metadata": {},
     "output_type": "execute_result"
    }
   ],
   "source": [
    "from StaticController import StaticController\n",
    "StaticController.variableMap['JUST_ENTERED'] =2\n",
    "StaticController.deciepherPreConditions(\"EVAL ### variableMap['JUST_ENTERED']==4\")\n"
   ]
  },
  {
   "cell_type": "code",
   "execution_count": 8,
   "id": "aa12e861-a4ee-42e7-a483-3d544a1cd5d7",
   "metadata": {},
   "outputs": [
    {
     "name": "stdout",
     "output_type": "stream",
     "text": [
      "99\n"
     ]
    },
    {
     "data": {
      "text/plain": [
       "[2, 2]"
      ]
     },
     "execution_count": 8,
     "metadata": {},
     "output_type": "execute_result"
    }
   ],
   "source": [
    "p1.getPosition()"
   ]
  },
  {
   "cell_type": "code",
   "execution_count": null,
   "id": "0baeba93-3cac-4df5-bc46-856000c6a3ec",
   "metadata": {},
   "outputs": [
    {
     "name": "stdout",
     "output_type": "stream",
     "text": [
      "System  :  This is the Commander Olivia of Artemis 9. Reaching to Ground Control. Please Respond\n",
      "System  :  Ground Control, This is Commander Olivia of Artemis 9. This is an emergency. Please Respond\n",
      "User  :  Commander Olivia this is retired Captain Adrien from Aries Mission Program. There seems to be a communication error and I am receiving this messages.\n",
      "System  :  Thank God. Captain Adrien, so good to see a response. I am the mission commander of Artemis 9. A mission to the moon to test new technologies which would enable us to colonize moon in the furture.\n",
      "System  :  However currently we are experiencing life-threatening and technical issues on the spacecraft. We need HELP!\n",
      "System  :  Our spacecraft has been hit and we are unable to connect with the mission control. I have been trying for so long. The CDRA device on the spacecraft is malfunctioning and oxygen levels are depleting severely.\n",
      "System  :  I need instant assistance. As a decorated Astronaut you must have some wisdom to navigate a situation like this. Please guide me through this emergency.\n",
      "User  :  Commander Olivia. Calm down, I am trying to reach Ground control, but all lines are coming busy. I 'll try to help you as much as I can. Please walk me through the situation.\n",
      "System  :  Thank you! I am on the space ship with a first time astronaut, Karter . An asteroid has impacted somewhere on the spaceship, the CDRA is malfunctioning. The oxygen levels are not enough for two of us to survive for long. \n",
      "System  :  The north star is right infront of the space ship, so you can use traditional directions to tell me where to go.\n",
      "USER  :  This is game start\n"
     ]
    },
    {
     "name": "stdin",
     "output_type": "stream",
     "text": [
      " move north\n"
     ]
    },
    {
     "name": "stdout",
     "output_type": "stream",
     "text": [
      "move ['n']\n",
      "USER  :  I have entered Cafeteria\n"
     ]
    }
   ],
   "source": [
    "from StaticController import StaticController\n",
    "from NLPParser import NLPParser\n",
    "import pandas as pd\n",
    "\n",
    "def performAction(message):\n",
    "    action,parameters = NLPParser.parse(message)\n",
    "    print(action, parameters)\n",
    "    if action ==\"move\":\n",
    "        StaticController.playerCharacter.move(parameters[0])\n",
    "    if action== \"pick\":\n",
    "        StaticController.playerCharacter.pick(parameters[0])\n",
    "    if action== \"drop\":\n",
    "        StaticController.playerCharacter.drop(parameters[0])\n",
    "def printMsgs(msgs):\n",
    "    for msg in msgs:\n",
    "        print(msg[0],\" : \",msg[1])\n",
    "def performEffect():\n",
    "    msgs= StaticController.getEffectSlice()\n",
    "    newmsgs=[]\n",
    "    for arr in msgs:\n",
    "        for msg in arr:\n",
    "            if len(msg)<1:\n",
    "                continue\n",
    "            newmsgs.append([\"User\",msg])\n",
    "    return newmsgs\n",
    "def getInitialCommunication():\n",
    "    initialDialog = pd.read_excel(open('../Data/InitialCommunication.xlsx', 'rb'))\n",
    "    msgs=[]\n",
    "    for ind, row in initialDialog.iterrows():\n",
    "        msgs.append([row[\"Sender\"],row[\"Message\"]])\n",
    "    return msgs\n",
    "\n",
    "\n",
    "\n",
    "printMsgs(getInitialCommunication())\n",
    "\n",
    "while(True):\n",
    "    #Produce Output\n",
    "    msgs = performEffect()\n",
    "    printMsgs(msgs)\n",
    "    action = input()\n",
    "    if action == \"EXIT\":\n",
    "        break\n",
    "    performAction(action)\n",
    "    #Perform Action\n",
    "    #Update ActionConsequences\n",
    "    "
   ]
  },
  {
   "cell_type": "code",
   "execution_count": 2,
   "id": "08c57ec8-b9db-4cee-b183-bd935658bdb3",
   "metadata": {},
   "outputs": [],
   "source": [
    "from StaticController import StaticController"
   ]
  },
  {
   "cell_type": "code",
   "execution_count": 4,
   "id": "029f6f62-5d16-44b4-998b-8b0436a5b9db",
   "metadata": {},
   "outputs": [
    {
     "data": {
      "text/plain": [
       "['Pod room']"
      ]
     },
     "execution_count": 4,
     "metadata": {},
     "output_type": "execute_result"
    }
   ],
   "source": [
    "[StaticController.variableMap[\"CURRENT_ROOM\"].getRoomName()]"
   ]
  },
  {
   "cell_type": "code",
   "execution_count": 5,
   "id": "75f3e6cc-181d-4085-8a89-95f56e1ae77b",
   "metadata": {},
   "outputs": [
    {
     "data": {
      "text/plain": [
       "'I am in the Pod room'"
      ]
     },
     "execution_count": 5,
     "metadata": {},
     "output_type": "execute_result"
    }
   ],
   "source": [
    "stw2 = 'I am in the {roomname}'.format(**fillers)\n",
    "stw2"
   ]
  },
  {
   "cell_type": "code",
   "execution_count": 2,
   "id": "61de7744-a7a6-4098-b312-f8c3edbc87b7",
   "metadata": {},
   "outputs": [],
   "source": [
    "fillers={'roomname': 'Pod room'}"
   ]
  },
  {
   "cell_type": "code",
   "execution_count": null,
   "id": "35f70d16-0c3f-443f-ad33-d371fdc9ed7a",
   "metadata": {},
   "outputs": [],
   "source": []
  }
 ],
 "metadata": {
  "kernelspec": {
   "display_name": "Python 3 (ipykernel)",
   "language": "python",
   "name": "python3"
  },
  "language_info": {
   "codemirror_mode": {
    "name": "ipython",
    "version": 3
   },
   "file_extension": ".py",
   "mimetype": "text/x-python",
   "name": "python",
   "nbconvert_exporter": "python",
   "pygments_lexer": "ipython3",
   "version": "3.9.7"
  }
 },
 "nbformat": 4,
 "nbformat_minor": 5
}
