{
 "cells": [
  {
   "cell_type": "code",
   "execution_count": 2,
   "id": "7102bde6-9d35-45e4-a999-c98209981464",
   "metadata": {},
   "outputs": [],
   "source": [
    "ab = 2"
   ]
  },
  {
   "cell_type": "code",
   "execution_count": 6,
   "id": "49f95b13-2d22-4051-8328-8490d747b7ae",
   "metadata": {},
   "outputs": [],
   "source": [
    "exec(\"ab==2\")"
   ]
  },
  {
   "cell_type": "code",
   "execution_count": 1,
   "id": "35289588-817a-4498-b27c-cd99338f86cb",
   "metadata": {},
   "outputs": [],
   "source": [
    "from MapAreas import MapAreas\n"
   ]
  },
  {
   "cell_type": "code",
   "execution_count": null,
   "id": "a8986b54-0c69-4448-96e0-61c73fe2cf6b",
   "metadata": {},
   "outputs": [],
   "source": []
  },
  {
   "cell_type": "code",
   "execution_count": 2,
   "id": "b547d18d-6def-4178-bd23-59b6938aaf05",
   "metadata": {},
   "outputs": [
    {
     "name": "stdout",
     "output_type": "stream",
     "text": [
      "0_0 Gym\n",
      "0_1 Storage\n",
      "0_2 Medbay\n",
      "1_0 Crew Room\n",
      "1_1 Pod room\n",
      "1_2 Cafeteria\n",
      "2_0 Control Room\n",
      "2_1 Cryogenics\n",
      "2_2 Lab\n"
     ]
    }
   ],
   "source": [
    "m1 = MapAreas()\n",
    "for key,value in m1.getMapArray().items():\n",
    "    print(key, value.getRoomName())"
   ]
  },
  {
   "cell_type": "code",
   "execution_count": null,
   "id": "b40c62cb-cb8d-4df8-be7d-2f2b3567d8a0",
   "metadata": {},
   "outputs": [],
   "source": [
    "\n",
    "        \n",
    "                "
   ]
  },
  {
   "cell_type": "code",
   "execution_count": 1,
   "id": "bdd05ddf-922f-4996-8a6a-8768d19b06eb",
   "metadata": {},
   "outputs": [],
   "source": [
    "from PlayerCharacter import PlayerCharacter"
   ]
  },
  {
   "cell_type": "code",
   "execution_count": 4,
   "id": "1db4f31b-6049-4b1b-8f96-b50c2c32757a",
   "metadata": {},
   "outputs": [],
   "source": [
    "p1 = PlayerCharacter([2,2])"
   ]
  },
  {
   "cell_type": "code",
   "execution_count": 5,
   "id": "c0d32e5b-ab7f-4dcc-ba1b-e0710fdaff4d",
   "metadata": {},
   "outputs": [
    {
     "name": "stdout",
     "output_type": "stream",
     "text": [
      "10\n"
     ]
    },
    {
     "data": {
      "text/plain": [
       "[2, 2]"
      ]
     },
     "execution_count": 5,
     "metadata": {},
     "output_type": "execute_result"
    }
   ],
   "source": [
    "p1.move(\"s\")\n",
    "p1.getPosition()"
   ]
  },
  {
   "cell_type": "code",
   "execution_count": 6,
   "id": "de4b5bdf-8acc-41de-babb-ce1a73c83d10",
   "metadata": {},
   "outputs": [
    {
     "name": "stdout",
     "output_type": "stream",
     "text": [
      "10\n"
     ]
    },
    {
     "data": {
      "text/plain": [
       "[2, 2]"
      ]
     },
     "execution_count": 6,
     "metadata": {},
     "output_type": "execute_result"
    }
   ],
   "source": [
    "p1.move(\"e\")\n",
    "p1.getPosition()"
   ]
  },
  {
   "cell_type": "code",
   "execution_count": 3,
   "id": "9c6f9654-9bb2-46d9-98c2-4cf159b33e89",
   "metadata": {},
   "outputs": [
    {
     "data": {
      "text/plain": [
       "False"
      ]
     },
     "execution_count": 3,
     "metadata": {},
     "output_type": "execute_result"
    }
   ],
   "source": [
    "from StaticController import StaticController\n",
    "StaticController.variableMap['JUST_ENTERED'] =2\n",
    "StaticController.deciepherPreConditions(\"EVAL ### variableMap['JUST_ENTERED']==4\")\n"
   ]
  },
  {
   "cell_type": "code",
   "execution_count": 8,
   "id": "aa12e861-a4ee-42e7-a483-3d544a1cd5d7",
   "metadata": {},
   "outputs": [
    {
     "name": "stdout",
     "output_type": "stream",
     "text": [
      "99\n"
     ]
    },
    {
     "data": {
      "text/plain": [
       "[2, 2]"
      ]
     },
     "execution_count": 8,
     "metadata": {},
     "output_type": "execute_result"
    }
   ],
   "source": [
    "p1.getPosition()"
   ]
  },
  {
   "cell_type": "code",
   "execution_count": null,
   "id": "0baeba93-3cac-4df5-bc46-856000c6a3ec",
   "metadata": {},
   "outputs": [
    {
     "name": "stdout",
     "output_type": "stream",
     "text": [
      "['variableMap[\"JUST_ENTERED\"] ==1 ', 'variableMap[\"CURRENT_ROOM\"].getVisitCount() <=1']\n",
      "incondition\n",
      "FAILED StaticController.variableMap[\"JUST_ENTERED\"] ==1 \n",
      "incondition\n",
      "FAILED StaticController.variableMap[\"CURRENT_ROOM\"].getVisitCount() <=1\n",
      "['variableMap[\"JUST_ENTERED\"] ==1 ', 'variableMap[\"CURRENT_ROOM\"].getVisitCount() > 1']\n",
      "incondition\n",
      "FAILED StaticController.variableMap[\"JUST_ENTERED\"] ==1 \n",
      "incondition\n",
      "FAILED StaticController.variableMap[\"CURRENT_ROOM\"].getVisitCount() > 1\n",
      "['nan']\n",
      "[False, False, True]\n",
      "   EffectID  effect-tag                                      Preconditions  \\\n",
      "0    900001  room-enter  variableMap[\"JUST_ENTERED\"] ==1 \\nvariableMap[...   \n",
      "1    900002  room-enter  variableMap[\"JUST_ENTERED\"] ==1 \\nvariableMap[...   \n",
      "2    900003  game-start                                                NaN   \n",
      "\n",
      "                                      Postconditions  MUST_HAPPEN  MAX_SHOWN  \\\n",
      "0  displayCD(\"room-enter\", {\"roomname\":variableMa...         True         -1   \n",
      "1  displayCD(\"room-enter\",  {\"roomname\":variableM...         True         -1   \n",
      "2                        displayCD( \"game-start\",{})        False          1   \n",
      "\n",
      "   SHOWN  PROBABILTY  \n",
      "0      0         100  \n",
      "1      0         100  \n",
      "2      0         100  \n",
      "   EffectID  effect-tag                                      Preconditions  \\\n",
      "0    900001  room-enter  variableMap[\"JUST_ENTERED\"] ==1 \\nvariableMap[...   \n",
      "1    900002  room-enter  variableMap[\"JUST_ENTERED\"] ==1 \\nvariableMap[...   \n",
      "2    900003  game-start                                                NaN   \n",
      "\n",
      "                                      Postconditions  MUST_HAPPEN  MAX_SHOWN  \\\n",
      "0  displayCD(\"room-enter\", {\"roomname\":variableMa...         True         -1   \n",
      "1  displayCD(\"room-enter\",  {\"roomname\":variableM...         True         -1   \n",
      "2                        displayCD( \"game-start\",{})        False          1   \n",
      "\n",
      "   SHOWN  PROBABILTY  \n",
      "0      0         100  \n",
      "1      0         100  \n",
      "2      1         100  \n",
      "StaticController.displayCD( \"game-start\",{})\n",
      "game-start\n",
      "   DialogID   DialogTag              Dialog\n",
      "2    600003  game-start  This is game start\n",
      "0\n",
      "{}\n",
      "This is game start\n",
      "['This is game start']\n",
      "[['This is game start']]\n"
     ]
    },
    {
     "name": "stdin",
     "output_type": "stream",
     "text": [
      " pick gun\n"
     ]
    },
    {
     "name": "stdout",
     "output_type": "stream",
     "text": [
      "['gun']\n",
      "[]\n",
      "['variableMap[\"JUST_ENTERED\"] ==1 ', 'variableMap[\"CURRENT_ROOM\"].getVisitCount() <=1']\n",
      "incondition\n",
      "FAILED StaticController.variableMap[\"JUST_ENTERED\"] ==1 \n",
      "incondition\n",
      "FAILED StaticController.variableMap[\"CURRENT_ROOM\"].getVisitCount() <=1\n",
      "['variableMap[\"JUST_ENTERED\"] ==1 ', 'variableMap[\"CURRENT_ROOM\"].getVisitCount() > 1']\n",
      "incondition\n",
      "FAILED StaticController.variableMap[\"JUST_ENTERED\"] ==1 \n",
      "incondition\n",
      "FAILED StaticController.variableMap[\"CURRENT_ROOM\"].getVisitCount() > 1\n",
      "[False, False, False]\n",
      "   EffectID  effect-tag                                      Preconditions  \\\n",
      "0    900001  room-enter  variableMap[\"JUST_ENTERED\"] ==1 \\nvariableMap[...   \n",
      "1    900002  room-enter  variableMap[\"JUST_ENTERED\"] ==1 \\nvariableMap[...   \n",
      "2    900003  game-start                                                NaN   \n",
      "\n",
      "                                      Postconditions  MUST_HAPPEN  MAX_SHOWN  \\\n",
      "0  displayCD(\"room-enter\", {\"roomname\":variableMa...         True         -1   \n",
      "1  displayCD(\"room-enter\",  {\"roomname\":variableM...         True         -1   \n",
      "2                        displayCD( \"game-start\",{})        False          1   \n",
      "\n",
      "   SHOWN  PROBABILTY  \n",
      "0      0         100  \n",
      "1      0         100  \n",
      "2      1         100  \n",
      "   EffectID  effect-tag                                      Preconditions  \\\n",
      "0    900001  room-enter  variableMap[\"JUST_ENTERED\"] ==1 \\nvariableMap[...   \n",
      "1    900002  room-enter  variableMap[\"JUST_ENTERED\"] ==1 \\nvariableMap[...   \n",
      "2    900003  game-start                                                NaN   \n",
      "\n",
      "                                      Postconditions  MUST_HAPPEN  MAX_SHOWN  \\\n",
      "0  displayCD(\"room-enter\", {\"roomname\":variableMa...         True         -1   \n",
      "1  displayCD(\"room-enter\",  {\"roomname\":variableM...         True         -1   \n",
      "2                        displayCD( \"game-start\",{})        False          1   \n",
      "\n",
      "   SHOWN  PROBABILTY  \n",
      "0      0         100  \n",
      "1      0         100  \n",
      "2      1         100  \n",
      "[]\n"
     ]
    }
   ],
   "source": [
    "from StaticController import StaticController\n",
    "from NLPParser import NLPParser\n",
    "\n",
    "def performAction(message):\n",
    "    action,parameters = NLPParser.parse(message)\n",
    "    if action ==\"move\":\n",
    "        StaticController.playerCharacter.move(parameters[0])\n",
    "    if action== \"pick\":\n",
    "        print(StaticController.playerCharacter.getRoom().inv)\n",
    "        StaticController.playerCharacter.pick(parameters[0])\n",
    "        print(StaticController.playerCharacter.getRoom().inv)\n",
    "    if action== \"drop\":\n",
    "        print(StaticController.playerCharacter.getRoom().inv)\n",
    "        StaticController.playerCharacter.drop(parameters[0])\n",
    "        print(StaticController.playerCharacter.getRoom().inv)\n",
    "    \n",
    "def performEffect():\n",
    "    return StaticController.getEffectSlice()\n",
    "\n",
    "while(True):\n",
    "    #Produce Output\n",
    "    print(performEffect())\n",
    "    action = input()\n",
    "    performAction(action)\n",
    "    #Perform Action\n",
    "    #Update ActionConsequences\n",
    "    "
   ]
  },
  {
   "cell_type": "code",
   "execution_count": 2,
   "id": "08c57ec8-b9db-4cee-b183-bd935658bdb3",
   "metadata": {},
   "outputs": [],
   "source": [
    "from StaticController import StaticController"
   ]
  },
  {
   "cell_type": "code",
   "execution_count": 4,
   "id": "029f6f62-5d16-44b4-998b-8b0436a5b9db",
   "metadata": {},
   "outputs": [
    {
     "data": {
      "text/plain": [
       "['Pod room']"
      ]
     },
     "execution_count": 4,
     "metadata": {},
     "output_type": "execute_result"
    }
   ],
   "source": [
    "[StaticController.variableMap[\"CURRENT_ROOM\"].getRoomName()]"
   ]
  },
  {
   "cell_type": "code",
   "execution_count": 5,
   "id": "75f3e6cc-181d-4085-8a89-95f56e1ae77b",
   "metadata": {},
   "outputs": [
    {
     "data": {
      "text/plain": [
       "'I am in the Pod room'"
      ]
     },
     "execution_count": 5,
     "metadata": {},
     "output_type": "execute_result"
    }
   ],
   "source": [
    "stw2 = 'I am in the {roomname}'.format(**fillers)\n",
    "stw2"
   ]
  },
  {
   "cell_type": "code",
   "execution_count": 2,
   "id": "61de7744-a7a6-4098-b312-f8c3edbc87b7",
   "metadata": {},
   "outputs": [],
   "source": [
    "fillers={'roomname': 'Pod room'}"
   ]
  },
  {
   "cell_type": "code",
   "execution_count": null,
   "id": "35f70d16-0c3f-443f-ad33-d371fdc9ed7a",
   "metadata": {},
   "outputs": [],
   "source": []
  }
 ],
 "metadata": {
  "kernelspec": {
   "display_name": "Python 3 (ipykernel)",
   "language": "python",
   "name": "python3"
  },
  "language_info": {
   "codemirror_mode": {
    "name": "ipython",
    "version": 3
   },
   "file_extension": ".py",
   "mimetype": "text/x-python",
   "name": "python",
   "nbconvert_exporter": "python",
   "pygments_lexer": "ipython3",
   "version": "3.9.7"
  }
 },
 "nbformat": 4,
 "nbformat_minor": 5
}
