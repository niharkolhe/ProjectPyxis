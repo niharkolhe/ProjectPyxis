{
 "cells": [
  {
   "cell_type": "code",
   "execution_count": 2,
   "id": "7102bde6-9d35-45e4-a999-c98209981464",
   "metadata": {},
   "outputs": [],
   "source": [
    "ab = 2"
   ]
  },
  {
   "cell_type": "code",
   "execution_count": 6,
   "id": "49f95b13-2d22-4051-8328-8490d747b7ae",
   "metadata": {},
   "outputs": [],
   "source": [
    "exec(\"ab==2\")"
   ]
  },
  {
   "cell_type": "code",
   "execution_count": 1,
   "id": "35289588-817a-4498-b27c-cd99338f86cb",
   "metadata": {},
   "outputs": [],
   "source": [
    "from MapAreas import MapAreas\n"
   ]
  },
  {
   "cell_type": "code",
   "execution_count": null,
   "id": "a8986b54-0c69-4448-96e0-61c73fe2cf6b",
   "metadata": {},
   "outputs": [],
   "source": []
  },
  {
   "cell_type": "code",
   "execution_count": 2,
   "id": "b547d18d-6def-4178-bd23-59b6938aaf05",
   "metadata": {},
   "outputs": [
    {
     "name": "stdout",
     "output_type": "stream",
     "text": [
      "0_0 Gym\n",
      "0_1 Storage\n",
      "0_2 Medbay\n",
      "1_0 Crew Room\n",
      "1_1 Pod room\n",
      "1_2 Cafeteria\n",
      "2_0 Control Room\n",
      "2_1 Cryogenics\n",
      "2_2 Lab\n"
     ]
    }
   ],
   "source": [
    "m1 = MapAreas()\n",
    "for key,value in m1.getMapArray().items():\n",
    "    print(key, value.getRoomName())"
   ]
  },
  {
   "cell_type": "code",
   "execution_count": null,
   "id": "b40c62cb-cb8d-4df8-be7d-2f2b3567d8a0",
   "metadata": {},
   "outputs": [],
   "source": [
    "\n",
    "        \n",
    "                "
   ]
  },
  {
   "cell_type": "code",
   "execution_count": 1,
   "id": "bdd05ddf-922f-4996-8a6a-8768d19b06eb",
   "metadata": {},
   "outputs": [],
   "source": [
    "from PlayerCharacter import PlayerCharacter"
   ]
  },
  {
   "cell_type": "code",
   "execution_count": 4,
   "id": "1db4f31b-6049-4b1b-8f96-b50c2c32757a",
   "metadata": {},
   "outputs": [],
   "source": [
    "p1 = PlayerCharacter([2,2])"
   ]
  },
  {
   "cell_type": "code",
   "execution_count": 5,
   "id": "c0d32e5b-ab7f-4dcc-ba1b-e0710fdaff4d",
   "metadata": {},
   "outputs": [
    {
     "name": "stdout",
     "output_type": "stream",
     "text": [
      "10\n"
     ]
    },
    {
     "data": {
      "text/plain": [
       "[2, 2]"
      ]
     },
     "execution_count": 5,
     "metadata": {},
     "output_type": "execute_result"
    }
   ],
   "source": [
    "p1.move(\"s\")\n",
    "p1.getPosition()"
   ]
  },
  {
   "cell_type": "code",
   "execution_count": 6,
   "id": "de4b5bdf-8acc-41de-babb-ce1a73c83d10",
   "metadata": {},
   "outputs": [
    {
     "name": "stdout",
     "output_type": "stream",
     "text": [
      "10\n"
     ]
    },
    {
     "data": {
      "text/plain": [
       "[2, 2]"
      ]
     },
     "execution_count": 6,
     "metadata": {},
     "output_type": "execute_result"
    }
   ],
   "source": [
    "p1.move(\"e\")\n",
    "p1.getPosition()"
   ]
  },
  {
   "cell_type": "code",
   "execution_count": 3,
   "id": "9c6f9654-9bb2-46d9-98c2-4cf159b33e89",
   "metadata": {},
   "outputs": [
    {
     "data": {
      "text/plain": [
       "False"
      ]
     },
     "execution_count": 3,
     "metadata": {},
     "output_type": "execute_result"
    }
   ],
   "source": [
    "from StaticController import StaticController\n",
    "StaticController.variableMap['JUST_ENTERED'] =2\n",
    "StaticController.deciepherPreConditions(\"EVAL ### variableMap['JUST_ENTERED']==4\")\n"
   ]
  },
  {
   "cell_type": "code",
   "execution_count": 8,
   "id": "aa12e861-a4ee-42e7-a483-3d544a1cd5d7",
   "metadata": {},
   "outputs": [
    {
     "name": "stdout",
     "output_type": "stream",
     "text": [
      "99\n"
     ]
    },
    {
     "data": {
      "text/plain": [
       "[2, 2]"
      ]
     },
     "execution_count": 8,
     "metadata": {},
     "output_type": "execute_result"
    }
   ],
   "source": [
    "p1.getPosition()"
   ]
  },
  {
   "cell_type": "code",
   "execution_count": 1,
   "id": "0baeba93-3cac-4df5-bc46-856000c6a3ec",
   "metadata": {},
   "outputs": [
    {
     "name": "stdout",
     "output_type": "stream",
     "text": [
      "System  :  This is the Commander Olivia of Artemis 9. Reaching to Ground Control. Please Respond\n",
      "System  :  Ground Control, This is Commander Olivia of Artemis 9. This is an emergency. Please Respond\n",
      "User  :  Commander Olivia this is retired Captain Adrien from Aries Mission Program. There seems to be a communication error and I am receiving this messages.\n",
      "System  :  Thank God. Captain Adrien, so good to see a response. I am the mission commander of Artemis 9. A mission to the moon to test new technologies which would enable us to colonize moon in the furture.\n",
      "System  :  However currently we are experiencing life-threatening and technical issues on the spacecraft. We need HELP!\n",
      "System  :  Our spacecraft has been hit and we are unable to connect with the mission control. I have been trying for so long. The CDRA device on the spacecraft is malfunctioning and oxygen levels are depleting severely.\n",
      "System  :  I need instant assistance. As a decorated Astronaut you must have some wisdom to navigate a situation like this. Please guide me through this emergency.\n",
      "User  :  Commander Olivia. Calm down, I am trying to reach Ground control, but all lines are coming busy. I 'll try to help you as much as I can. Please walk me through the situation.\n",
      "System  :  Thank you! I am on the space ship with a first time astronaut, Karter . An asteroid has impacted somewhere on the spaceship, the CDRA is malfunctioning. The oxygen levels are not enough for two of us to survive for long. \n",
      "System  :  The north star is right infront of the space ship, so you can use traditional directions to tell me where to go.\n",
      "False StaticController.npcCharacter.hasObject(\"knife\")\n",
      "False StaticController.npcCharacter.getRoom().getRoomName()==StaticController.playerCharacter.getRoom().getRoomName()\n",
      "True StaticController.npcCharacter.getAttribute(\"resentment\")>0\n",
      "False StaticController.npcCharacter.hasObject(\"gun\")\n",
      "False StaticController.npcCharacter.getRoom().getRoomName()==StaticController.playerCharacter.getRoom().getRoomName()\n",
      "True StaticController.npcCharacter.getAttribute(\"resentment\")>0\n",
      "User  :  I am in the Gym\n",
      "User  :  Gym has all the tools for staying fit while on the spaceship\n"
     ]
    },
    {
     "name": "stdin",
     "output_type": "stream",
     "text": [
      " EXIT\n"
     ]
    }
   ],
   "source": [
    "from StaticController import StaticController\n",
    "from NLPParser import NLPParser\n",
    "import pandas as pd\n",
    "\n",
    "import GameController\n",
    "\n",
    "\n",
    "GameController.printMsgs(GameController.getInitialCommunication())\n",
    "while(True):\n",
    "    #Produce Output\n",
    "    msgs = GameController.performEffect()\n",
    "    GameController.printMsgs(msgs)\n",
    "    action = input()\n",
    "    if action == \"EXIT\":\n",
    "        break\n",
    "    msgs = GameController.performAction(action)\n",
    "    GameController.printMsgs(msgs)\n",
    "    #Perform Action\n",
    "    #Update ActionConsequences\n",
    "    "
   ]
  },
  {
   "cell_type": "code",
   "execution_count": 7,
   "id": "08c57ec8-b9db-4cee-b183-bd935658bdb3",
   "metadata": {},
   "outputs": [],
   "source": [
    "from random import randrange \n",
    "StaticController.npcCharacter.pick(StaticController.npcCharacter.getRoom().inv[randrange(len(StaticController.npcCharacter.getRoom().inv))])"
   ]
  },
  {
   "cell_type": "code",
   "execution_count": 2,
   "id": "dc90630e-0f8e-4261-9d7a-9df7247bd7f2",
   "metadata": {},
   "outputs": [
    {
     "data": {
      "text/plain": [
       "97"
      ]
     },
     "execution_count": 2,
     "metadata": {},
     "output_type": "execute_result"
    }
   ],
   "source": [
    "StaticController.npcCharacter.getAttribute(\"resentment\")"
   ]
  },
  {
   "cell_type": "code",
   "execution_count": 3,
   "id": "7799716b-fc0a-48f1-bea9-b1803c7cdc96",
   "metadata": {},
   "outputs": [
    {
     "ename": "ValueError",
     "evalue": "empty range for randrange()",
     "output_type": "error",
     "traceback": [
      "\u001b[1;31m---------------------------------------------------------------------------\u001b[0m",
      "\u001b[1;31mValueError\u001b[0m                                Traceback (most recent call last)",
      "\u001b[1;32mC:\\Users\\ADMINI~1\\AppData\\Local\\Temp/ipykernel_6344/3844643770.py\u001b[0m in \u001b[0;36m<module>\u001b[1;34m\u001b[0m\n\u001b[0;32m      1\u001b[0m \u001b[1;32mfrom\u001b[0m \u001b[0mrandom\u001b[0m \u001b[1;32mimport\u001b[0m \u001b[0mrandrange\u001b[0m\u001b[1;33m\u001b[0m\u001b[1;33m\u001b[0m\u001b[0m\n\u001b[1;32m----> 2\u001b[1;33m \u001b[0mStaticController\u001b[0m\u001b[1;33m.\u001b[0m\u001b[0mnpcCharacter\u001b[0m\u001b[1;33m.\u001b[0m\u001b[0mpick\u001b[0m\u001b[1;33m(\u001b[0m\u001b[0mStaticController\u001b[0m\u001b[1;33m.\u001b[0m\u001b[0mnpcCharacter\u001b[0m\u001b[1;33m.\u001b[0m\u001b[0mgetRoom\u001b[0m\u001b[1;33m(\u001b[0m\u001b[1;33m)\u001b[0m\u001b[1;33m.\u001b[0m\u001b[0minv\u001b[0m\u001b[1;33m[\u001b[0m\u001b[0mrandrange\u001b[0m\u001b[1;33m(\u001b[0m\u001b[0mlen\u001b[0m\u001b[1;33m(\u001b[0m\u001b[0mStaticController\u001b[0m\u001b[1;33m.\u001b[0m\u001b[0mnpcCharacter\u001b[0m\u001b[1;33m.\u001b[0m\u001b[0mgetRoom\u001b[0m\u001b[1;33m(\u001b[0m\u001b[1;33m)\u001b[0m\u001b[1;33m.\u001b[0m\u001b[0minv\u001b[0m\u001b[1;33m)\u001b[0m\u001b[1;33m)\u001b[0m\u001b[1;33m]\u001b[0m\u001b[1;33m)\u001b[0m\u001b[1;33m\u001b[0m\u001b[1;33m\u001b[0m\u001b[0m\n\u001b[0m",
      "\u001b[1;32m~\\AppData\\Local\\Programs\\Python\\Python39\\lib\\random.py\u001b[0m in \u001b[0;36mrandrange\u001b[1;34m(self, start, stop, step)\u001b[0m\n\u001b[0;32m    304\u001b[0m             \u001b[1;32mif\u001b[0m \u001b[0mistart\u001b[0m \u001b[1;33m>\u001b[0m \u001b[1;36m0\u001b[0m\u001b[1;33m:\u001b[0m\u001b[1;33m\u001b[0m\u001b[1;33m\u001b[0m\u001b[0m\n\u001b[0;32m    305\u001b[0m                 \u001b[1;32mreturn\u001b[0m \u001b[0mself\u001b[0m\u001b[1;33m.\u001b[0m\u001b[0m_randbelow\u001b[0m\u001b[1;33m(\u001b[0m\u001b[0mistart\u001b[0m\u001b[1;33m)\u001b[0m\u001b[1;33m\u001b[0m\u001b[1;33m\u001b[0m\u001b[0m\n\u001b[1;32m--> 306\u001b[1;33m             \u001b[1;32mraise\u001b[0m \u001b[0mValueError\u001b[0m\u001b[1;33m(\u001b[0m\u001b[1;34m\"empty range for randrange()\"\u001b[0m\u001b[1;33m)\u001b[0m\u001b[1;33m\u001b[0m\u001b[1;33m\u001b[0m\u001b[0m\n\u001b[0m\u001b[0;32m    307\u001b[0m \u001b[1;33m\u001b[0m\u001b[0m\n\u001b[0;32m    308\u001b[0m         \u001b[1;31m# stop argument supplied.\u001b[0m\u001b[1;33m\u001b[0m\u001b[1;33m\u001b[0m\u001b[0m\n",
      "\u001b[1;31mValueError\u001b[0m: empty range for randrange()"
     ]
    }
   ],
   "source": [
    "from random import randrange\n",
    "StaticController.npcCharacter.pick(StaticController.npcCharacter.getRoom().inv[randrange(len(StaticController.npcCharacter.getRoom().inv))])"
   ]
  },
  {
   "cell_type": "code",
   "execution_count": 2,
   "id": "b5fe3145-64d5-460d-b9d6-f10fe1d778ba",
   "metadata": {},
   "outputs": [
    {
     "data": {
      "text/plain": [
       "['gun']"
      ]
     },
     "execution_count": 2,
     "metadata": {},
     "output_type": "execute_result"
    }
   ],
   "source": [
    "StaticController.npcCharacter.inv"
   ]
  },
  {
   "cell_type": "code",
   "execution_count": 5,
   "id": "910f475c-d856-411b-8b72-ce90070156e9",
   "metadata": {},
   "outputs": [
    {
     "data": {
      "text/plain": [
       "False"
      ]
     },
     "execution_count": 5,
     "metadata": {},
     "output_type": "execute_result"
    }
   ],
   "source": [
    "len(StaticController.npcCharacter.getRoom().inv)>0"
   ]
  },
  {
   "cell_type": "code",
   "execution_count": 9,
   "id": "029f6f62-5d16-44b4-998b-8b0436a5b9db",
   "metadata": {},
   "outputs": [
    {
     "data": {
      "text/plain": [
       "False"
      ]
     },
     "execution_count": 9,
     "metadata": {},
     "output_type": "execute_result"
    }
   ],
   "source": [
    "StaticController.gameMap.getRoom(StaticController.playerCharacter.position).hasObject(\"batteries\")"
   ]
  },
  {
   "cell_type": "code",
   "execution_count": 1,
   "id": "75f3e6cc-181d-4085-8a89-95f56e1ae77b",
   "metadata": {},
   "outputs": [
    {
     "ename": "NameError",
     "evalue": "name 'StaticController' is not defined",
     "output_type": "error",
     "traceback": [
      "\u001b[1;31m---------------------------------------------------------------------------\u001b[0m",
      "\u001b[1;31mNameError\u001b[0m                                 Traceback (most recent call last)",
      "\u001b[1;32mC:\\Users\\ADMINI~1\\AppData\\Local\\Temp/ipykernel_6116/3109149542.py\u001b[0m in \u001b[0;36m<module>\u001b[1;34m\u001b[0m\n\u001b[1;32m----> 1\u001b[1;33m \u001b[0mStaticController\u001b[0m\u001b[1;33m.\u001b[0m\u001b[0mdialogData\u001b[0m\u001b[1;33m[\u001b[0m\u001b[0mStaticController\u001b[0m\u001b[1;33m.\u001b[0m\u001b[0mdialogData\u001b[0m\u001b[1;33m[\u001b[0m\u001b[1;34m\"DialogTag\"\u001b[0m\u001b[1;33m]\u001b[0m\u001b[1;33m==\u001b[0m\u001b[1;34m\"room-item-description\"\u001b[0m\u001b[1;33m]\u001b[0m\u001b[1;33m\u001b[0m\u001b[1;33m\u001b[0m\u001b[0m\n\u001b[0m",
      "\u001b[1;31mNameError\u001b[0m: name 'StaticController' is not defined"
     ]
    }
   ],
   "source": [
    "StaticController.dialogData[StaticController.dialogData[\"DialogTag\"]==\"room-item-description\"]"
   ]
  },
  {
   "cell_type": "code",
   "execution_count": 2,
   "id": "61de7744-a7a6-4098-b312-f8c3edbc87b7",
   "metadata": {},
   "outputs": [],
   "source": [
    "fillers={'roomname': 'Pod room'}"
   ]
  },
  {
   "cell_type": "code",
   "execution_count": null,
   "id": "35f70d16-0c3f-443f-ad33-d371fdc9ed7a",
   "metadata": {},
   "outputs": [],
   "source": []
  }
 ],
 "metadata": {
  "kernelspec": {
   "display_name": "Python 3 (ipykernel)",
   "language": "python",
   "name": "python3"
  },
  "language_info": {
   "codemirror_mode": {
    "name": "ipython",
    "version": 3
   },
   "file_extension": ".py",
   "mimetype": "text/x-python",
   "name": "python",
   "nbconvert_exporter": "python",
   "pygments_lexer": "ipython3",
   "version": "3.9.7"
  }
 },
 "nbformat": 4,
 "nbformat_minor": 5
}
