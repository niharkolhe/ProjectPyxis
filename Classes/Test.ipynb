{
 "cells": [
  {
   "cell_type": "code",
   "execution_count": 2,
   "id": "7102bde6-9d35-45e4-a999-c98209981464",
   "metadata": {},
   "outputs": [],
   "source": [
    "ab = 2"
   ]
  },
  {
   "cell_type": "code",
   "execution_count": 6,
   "id": "49f95b13-2d22-4051-8328-8490d747b7ae",
   "metadata": {},
   "outputs": [],
   "source": [
    "exec(\"ab==2\")"
   ]
  },
  {
   "cell_type": "code",
   "execution_count": 1,
   "id": "35289588-817a-4498-b27c-cd99338f86cb",
   "metadata": {},
   "outputs": [],
   "source": [
    "from MapAreas import MapAreas\n"
   ]
  },
  {
   "cell_type": "code",
   "execution_count": null,
   "id": "a8986b54-0c69-4448-96e0-61c73fe2cf6b",
   "metadata": {},
   "outputs": [],
   "source": []
  },
  {
   "cell_type": "code",
   "execution_count": 2,
   "id": "b547d18d-6def-4178-bd23-59b6938aaf05",
   "metadata": {},
   "outputs": [
    {
     "name": "stdout",
     "output_type": "stream",
     "text": [
      "0_0 Gym\n",
      "0_1 Storage\n",
      "0_2 Medbay\n",
      "1_0 Crew Room\n",
      "1_1 Pod room\n",
      "1_2 Cafeteria\n",
      "2_0 Control Room\n",
      "2_1 Cryogenics\n",
      "2_2 Lab\n"
     ]
    }
   ],
   "source": [
    "m1 = MapAreas()\n",
    "for key,value in m1.getMapArray().items():\n",
    "    print(key, value.getRoomName())"
   ]
  },
  {
   "cell_type": "code",
   "execution_count": null,
   "id": "b40c62cb-cb8d-4df8-be7d-2f2b3567d8a0",
   "metadata": {},
   "outputs": [],
   "source": [
    "\n",
    "        \n",
    "                "
   ]
  },
  {
   "cell_type": "code",
   "execution_count": 3,
   "id": "bdd05ddf-922f-4996-8a6a-8768d19b06eb",
   "metadata": {},
   "outputs": [],
   "source": [
    "from PlayerCharacter import PlayerCharacter"
   ]
  },
  {
   "cell_type": "code",
   "execution_count": 4,
   "id": "1db4f31b-6049-4b1b-8f96-b50c2c32757a",
   "metadata": {},
   "outputs": [],
   "source": [
    "p1 = PlayerCharacter([2,2])"
   ]
  },
  {
   "cell_type": "code",
   "execution_count": 5,
   "id": "c0d32e5b-ab7f-4dcc-ba1b-e0710fdaff4d",
   "metadata": {},
   "outputs": [
    {
     "name": "stdout",
     "output_type": "stream",
     "text": [
      "10\n"
     ]
    },
    {
     "data": {
      "text/plain": [
       "[2, 2]"
      ]
     },
     "execution_count": 5,
     "metadata": {},
     "output_type": "execute_result"
    }
   ],
   "source": [
    "p1.move(\"s\")\n",
    "p1.getPosition()"
   ]
  },
  {
   "cell_type": "code",
   "execution_count": 6,
   "id": "de4b5bdf-8acc-41de-babb-ce1a73c83d10",
   "metadata": {},
   "outputs": [
    {
     "name": "stdout",
     "output_type": "stream",
     "text": [
      "10\n"
     ]
    },
    {
     "data": {
      "text/plain": [
       "[2, 2]"
      ]
     },
     "execution_count": 6,
     "metadata": {},
     "output_type": "execute_result"
    }
   ],
   "source": [
    "p1.move(\"e\")\n",
    "p1.getPosition()"
   ]
  },
  {
   "cell_type": "code",
   "execution_count": 3,
   "id": "9c6f9654-9bb2-46d9-98c2-4cf159b33e89",
   "metadata": {},
   "outputs": [
    {
     "data": {
      "text/plain": [
       "False"
      ]
     },
     "execution_count": 3,
     "metadata": {},
     "output_type": "execute_result"
    }
   ],
   "source": [
    "from StaticController import StaticController\n",
    "StaticController.variableMap['JUST_ENTERED'] =2\n",
    "StaticController.deciepherPreConditions(\"EVAL ### variableMap['JUST_ENTERED']==4\")\n"
   ]
  },
  {
   "cell_type": "code",
   "execution_count": 8,
   "id": "aa12e861-a4ee-42e7-a483-3d544a1cd5d7",
   "metadata": {},
   "outputs": [
    {
     "name": "stdout",
     "output_type": "stream",
     "text": [
      "99\n"
     ]
    },
    {
     "data": {
      "text/plain": [
       "[2, 2]"
      ]
     },
     "execution_count": 8,
     "metadata": {},
     "output_type": "execute_result"
    }
   ],
   "source": [
    "p1.getPosition()"
   ]
  },
  {
   "cell_type": "code",
   "execution_count": null,
   "id": "0baeba93-3cac-4df5-bc46-856000c6a3ec",
   "metadata": {},
   "outputs": [
    {
     "name": "stdout",
     "output_type": "stream",
     "text": [
      "['variableMap[\"JUST_ENTERED\"] ==1 ', 'variableMap[\"CURRENT_ROOM\"].getVisitCount() <=1']\n",
      "incondition\n",
      "FAILED StaticController.variableMap[\"JUST_ENTERED\"] ==1 \n",
      "incondition\n",
      "FAILED StaticController.variableMap[\"CURRENT_ROOM\"].getVisitCount() <=1\n",
      "['variableMap[\"JUST_ENTERED\"] ==1 ', 'variableMap[\"CURRENT_ROOM\"].getVisitCount() > 1']\n",
      "incondition\n",
      "FAILED StaticController.variableMap[\"JUST_ENTERED\"] ==1 \n",
      "incondition\n",
      "FAILED StaticController.variableMap[\"CURRENT_ROOM\"].getVisitCount() > 1\n",
      "['nan']\n",
      "[False, False, True]\n",
      "game-start\n",
      "   DialogID   DialogTag              Dialog\n",
      "2    600003  game-start  This is game start\n",
      "0\n",
      "This is game start\n",
      "['This is game start']\n",
      "[['This is game start']]\n"
     ]
    },
    {
     "name": "stdin",
     "output_type": "stream",
     "text": [
      " n\n"
     ]
    },
    {
     "name": "stdout",
     "output_type": "stream",
     "text": [
      "['variableMap[\"JUST_ENTERED\"] ==1 ', 'variableMap[\"CURRENT_ROOM\"].getVisitCount() <=1']\n",
      "incondition\n",
      "StaticController.variableMap[\"JUST_ENTERED\"] ==1  True\n",
      "incondition\n",
      "StaticController.variableMap[\"CURRENT_ROOM\"].getVisitCount() <=1 True\n",
      "['variableMap[\"JUST_ENTERED\"] ==1 ', 'variableMap[\"CURRENT_ROOM\"].getVisitCount() > 1']\n",
      "incondition\n",
      "StaticController.variableMap[\"JUST_ENTERED\"] ==1  True\n",
      "incondition\n",
      "StaticController.variableMap[\"CURRENT_ROOM\"].getVisitCount() > 1 False\n",
      "['nan']\n",
      "[True, False, True]\n",
      "[]\n",
      "game-start\n",
      "   DialogID   DialogTag              Dialog\n",
      "2    600003  game-start  This is game start\n",
      "0\n",
      "This is game start\n",
      "['This is game start']\n",
      "[[], ['This is game start']]\n"
     ]
    }
   ],
   "source": [
    "from StaticController import StaticController\n",
    "def performAction(action):\n",
    "    StaticController.playerCharacter.move(action)\n",
    "        \n",
    "    \n",
    "def performEffect():\n",
    "    return StaticController.getEffectSlice()\n",
    "\n",
    "while(True):\n",
    "    #Produce Output\n",
    "    print(performEffect())\n",
    "    action = input()\n",
    "    performAction(action)\n",
    "    #Perform Action\n",
    "    #Update ActionConsequences\n",
    "    "
   ]
  },
  {
   "cell_type": "code",
   "execution_count": null,
   "id": "08c57ec8-b9db-4cee-b183-bd935658bdb3",
   "metadata": {},
   "outputs": [],
   "source": []
  }
 ],
 "metadata": {
  "kernelspec": {
   "display_name": "Python 3 (ipykernel)",
   "language": "python",
   "name": "python3"
  },
  "language_info": {
   "codemirror_mode": {
    "name": "ipython",
    "version": 3
   },
   "file_extension": ".py",
   "mimetype": "text/x-python",
   "name": "python",
   "nbconvert_exporter": "python",
   "pygments_lexer": "ipython3",
   "version": "3.9.7"
  }
 },
 "nbformat": 4,
 "nbformat_minor": 5
}
